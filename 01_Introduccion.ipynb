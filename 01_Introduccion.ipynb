{
 "cells": [
  {
   "cell_type": "code",
   "execution_count": 1,
   "metadata": {
    "{python}": null
   },
   "outputs": [],
   "source": [
    "# %matplotlib inline\n",
    "import matplotlib\n",
    "import seaborn as sns\n",
    "matplotlib.rcParams['savefig.dpi'] = 144"
   ]
  },
  {
   "cell_type": "markdown",
   "metadata": {},
   "source": [
    "# Introducción a la ciencia de datos"
   ]
  },
  {
   "cell_type": "markdown",
   "metadata": {},
   "source": [
    "¡Bienvenido! En los próximos meses, realizaremos una profunda inmersión en Data Science. Este curso cubrirá el material en Data Science que abarca desde la programación básica hasta el aprendizaje automático. El programa de estudios básico es el siguiente\n",
    "\n",
    "| Semana | Material |\n",
    "| --- | --- |\n",
    "| 1 | Fundamentos de programación y Python |\n",
    "| 2 | Estructuras de datos |\n",
    "| 3 | Análisis de datos en Python |\n",
    "| 4 | Manipulación de datos |\n",
    "| 5 | Aprendizaje Automático Básico |\n",
    "| 6 | Modelos de Aprendizaje Automático |\n",
    "| 7 | Reducción de la dimensionalidad y regularización.\n",
    "| 8 | Ingeniería de características y modelos de conjuntos |"
   ]
  },
  {
   "cell_type": "markdown",
   "metadata": {},
   "source": [
    "## Plataforma de aprendizaje\n",
    "\n",
    "Utilizaremos la interfaz del anotador Jupyter para todo nuestro trabajo. El anotador Jupyter es una gran herramienta para Data Science, especialmente para fase  exploratoria de Data Science. Vamos a repasar algunas cosas sobre el anotador.\n",
    "\n",
    "El anotador está dividido en celdas, algunas de las cuales son markdown."
   ]
  },
  {
   "cell_type": "code",
   "execution_count": 2,
   "metadata": {},
   "outputs": [
    {
     "name": "stdout",
     "output_type": "stream",
     "text": [
      "Hola mundo!\n"
     ]
    }
   ],
   "source": [
    "print('Hola mundo!')"
   ]
  },
  {
   "cell_type": "markdown",
   "metadata": {},
   "source": [
    "El código que está escribiendo en su navegador web se envía a un \"kernel\" de Python que vive en un servidor en la nube que ejecutará su código y devolverá el resultado al anotador. Para ejecutar una celda, podemos hacer clic en el botón Run (ejecutar) en la parte superior de la pantalla o usar `shift + enter`.\n",
    "\n",
    "Si defino una variable en una celda"
   ]
  },
  {
   "cell_type": "code",
   "execution_count": 3,
   "metadata": {},
   "outputs": [],
   "source": [
    "a = 5"
   ]
  },
  {
   "cell_type": "markdown",
   "metadata": {},
   "source": [
    "El valor sigue siendo accesible en otra celda:"
   ]
  },
  {
   "cell_type": "code",
   "execution_count": 4,
   "metadata": {},
   "outputs": [
    {
     "name": "stdout",
     "output_type": "stream",
     "text": [
      "5\n"
     ]
    }
   ],
   "source": [
    "print(a)"
   ]
  },
  {
   "cell_type": "markdown",
   "metadata": {},
   "source": [
    "Los anotadores Jupyter tienen algunas funciones de guardado automático, pero recuerde guardarlos con frecuencia para asegurarse de que no utiliza ningún trabajo. Si también está familiarizado con un control de versión como `git`, no es una mala idea controlar la versión de los anotadores, aunque le pedimos que no envíe el material a un repositorio público."
   ]
  },
  {
   "cell_type": "markdown",
   "metadata": {},
   "source": [
    "## Ejercicios\n",
    "\n",
    "Estos anotadores contienen muchos ejercicios pequeños que ayudan a practicar el material que se está discutiendo. Algunos de los ejercicios estarán escribiendo un poco de código, otros se escribirán. Algunos de los ejercicios se cubrirán en la conferencia y otros se dejarán como práctica. Los ejercicios son un gran tema para debatir en el curso y, por favor, siéntase libre de ayudarnos a resolverlos.\n",
    "\n",
    "Ahora algunos ejercicios para la introducción:\n",
    "\n",
    "1. Haz unas cuantas celdas en el anotador de Jupyter y ejecútalas.\n",
    "2. Guarde su anotador de Jupyter\n",
    "\n"
   ]
  },
  {
   "cell_type": "code",
   "execution_count": 5,
   "metadata": {},
   "outputs": [
    {
     "name": "stdout",
     "output_type": "stream",
     "text": [
      "10\n"
     ]
    }
   ],
   "source": [
    "x = 10\n",
    "print(x)"
   ]
  },
  {
   "cell_type": "code",
   "execution_count": null,
   "metadata": {},
   "outputs": [],
   "source": []
  }
 ],
 "metadata": {
  "kernelspec": {
   "display_name": "Python 3",
   "language": "python",
   "name": "python3"
  },
  "language_info": {
   "codemirror_mode": {
    "name": "ipython",
    "version": 3
   },
   "file_extension": ".py",
   "mimetype": "text/x-python",
   "name": "python",
   "nbconvert_exporter": "python",
   "pygments_lexer": "ipython3",
   "version": "3.7.4"
  },
  "varInspector": {
   "cols": {
    "lenName": 16,
    "lenType": 16,
    "lenVar": 40
   },
   "kernels_config": {
    "python": {
     "delete_cmd_postfix": "",
     "delete_cmd_prefix": "del ",
     "library": "var_list.py",
     "varRefreshCmd": "print(var_dic_list())"
    },
    "r": {
     "delete_cmd_postfix": ") ",
     "delete_cmd_prefix": "rm(",
     "library": "var_list.r",
     "varRefreshCmd": "cat(var_dic_list()) "
    }
   },
   "types_to_exclude": [
    "module",
    "function",
    "builtin_function_or_method",
    "instance",
    "_Feature"
   ],
   "window_display": false
  }
 },
 "nbformat": 4,
 "nbformat_minor": 2
}
