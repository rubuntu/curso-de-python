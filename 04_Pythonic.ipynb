{
 "cells": [
  {
   "cell_type": "code",
   "execution_count": null,
   "metadata": {},
   "outputs": [],
   "source": [
    "%matplotlib inline\n",
    "import matplotlib\n",
    "import seaborn as sns\n",
    "matplotlib.rcParams['savefig.dpi'] = 144"
   ]
  },
  {
   "cell_type": "code",
   "execution_count": null,
   "metadata": {},
   "outputs": [],
   "source": [
    "import expectexception"
   ]
  },
  {
   "cell_type": "markdown",
   "metadata": {},
   "source": [
    "# Pythonismos"
   ]
  },
  {
   "cell_type": "markdown",
   "metadata": {},
   "source": [
    "Gran parte de lo que cubrimos en el anotador anterior puede ser de aplicación bastante general. Incluso la sintaxis de Python es bastante similar a otros idiomas en la familia C. Pero hay algunas cosas que cada idioma elige cómo hacer más allá de la sintaxis (aunque muchos idiomas nuevos se inspiran en la forma en que Python hace las cosas). Las cosas que vamos a pasar aquí.\n",
    "\n",
    "* ¿Qué es Pythonic?\n",
    "* División de `float`\n",
    "* Python `import` system\n",
    "* Excepciones\n",
    "* Como depurar Python\n",
    "\n",
    "\n",
    "Comencemos por lo que entendemos por la forma en que Python hace las cosas."
   ]
  },
  {
   "cell_type": "markdown",
   "metadata": {},
   "source": [
    "## `Pythonic`\n",
    "\n",
    "Cuando aprendas Python, probablemente navegarás en blogs y otros recursos web que afirman que ciertas cosas son `Pythonic`. Python tiene una forma de hacer las cosas, en su mayoría capturada en el Zen de Python."
   ]
  },
  {
   "cell_type": "code",
   "execution_count": null,
   "metadata": {},
   "outputs": [],
   "source": [
    "import this"
   ]
  },
  {
   "cell_type": "markdown",
   "metadata": {},
   "source": [
    "El zen de Python, por Tim Peters\n",
    "\n",
    "Bello es mejor que feo.  \n",
    "Explícito es mejor que implícito.  \n",
    "Simple es mejor que complejo.  \n",
    "Complejo es mejor que complicado.  \n",
    "Plano es mejor que anidado.  \n",
    "Espaciado es mejor que denso.  \n",
    "La legibilidad es importante.  \n",
    "Los casos especiales no son lo suficientemente especiales como para romper las reglas.  \n",
    "Sin embargo la practicidad le gana a la pureza.  \n",
    "Los errores nunca deberían pasar silenciosamente.  \n",
    "A menos que se silencien explícitamente.  \n",
    "Frente a la ambigüedad, evitar la tentación de adivinar.  \n",
    "Debería haber una, y preferiblemente solo una, manera obvia de hacerlo.  \n",
    "A pesar de que esa manera no sea obvia a menos que seas Holandés.  \n",
    "Ahora es mejor que nunca.  \n",
    "A pesar de que nunca es muchas veces mejor que *ahora* mismo.  \n",
    "Si la implementación es difícil de explicar, es una mala idea.  \n",
    "Si la implementación es fácil de explicar, puede que sea una buena idea.  \n",
    "Los espacios de nombres son una gran idea, ¡tengamos más de esos!  \n"
   ]
  },
  {
   "cell_type": "markdown",
   "metadata": {},
   "source": [
    "Las prácticas \"pythónicas\" son aquellas que la comunidad general de Python ha acordado que son preferibles, a veces esto es puramente una consideración estilística y otras veces puede estar relacionada con la forma en que se ejecuta Python.\n",
    "\n",
    "Hacer que su código sea 'Pythonic' también puede ser útil cuando otros programadores de Python necesitan interactuar con él, ya que estarán familiarizados con los modismos y paradigmas que usa. "
   ]
  },
  {
   "cell_type": "markdown",
   "metadata": {},
   "source": [
    "## División de float \n",
    "Una cosa a tener en cuenta en Python 2, aunque no en Python 3, es que la división predeterminada puede no ser lo que piensas. Por ejemplo:"
   ]
  },
  {
   "cell_type": "code",
   "execution_count": null,
   "metadata": {},
   "outputs": [],
   "source": [
    "2/4"
   ]
  },
  {
   "cell_type": "markdown",
   "metadata": {},
   "source": [
    "La división de enteros predeterminada en Python 2 descarta la parte fraccionaria de la respuesta, de modo que dividir dos enteros devuelve un entero (tiene sentido en algunos contextos). Para obtener la división completa, solo se necesita hacer volver `float` uno de los números, por ejemplo:"
   ]
  },
  {
   "cell_type": "code",
   "execution_count": null,
   "metadata": {},
   "outputs": [],
   "source": [
    "2.0/4"
   ]
  },
  {
   "cell_type": "code",
   "execution_count": null,
   "metadata": {},
   "outputs": [],
   "source": [
    "float(2)/4"
   ]
  },
  {
   "cell_type": "markdown",
   "metadata": {},
   "source": [
    "Este simple error es la causa de muchos errores, así que por favor ¡cuidado!"
   ]
  },
  {
   "cell_type": "markdown",
   "metadata": {},
   "source": [
    "## Imports\n",
    "\n",
    "En las celdas anteriores puede haber notado que usamos la sintaxis `import <package>`. Esta construcción nos permite incluir código de otros archivos de Python o, en general, módulos (colecciones de archivos) y paquetes (colección de módulos) en el código actual con el que estamos trabajando. Para los propósitos de este curso, hemos instalado todos los paquetes que necesitará en su máquina, pero para trabajar con paquetes, algunas herramientas recomendadas son:\n",
    "\n",
    "- conda  \n",
    "- pip  \n",
    "\n",
    "Con los paquetes instalados (generalmente instalados con uno de esos dos \"administradores de paquetes\"), podemos importar el paquete con el comando `import`. También podemos importar solo partes del paquete. Por ejemplo, un paquete que usaremos en el curso se llama `pandas`. Podemos importar `pandas`"
   ]
  },
  {
   "cell_type": "code",
   "execution_count": null,
   "metadata": {},
   "outputs": [],
   "source": [
    "import pandas\n",
    "pandas"
   ]
  },
  {
   "cell_type": "markdown",
   "metadata": {},
   "source": [
    "También podemos importar pandas, pero llamarlo de otra manera (ahorra un poco de escritura y es una convención para algunos de los paquetes principales del grupo de paquetes científicos de Python)."
   ]
  },
  {
   "cell_type": "code",
   "execution_count": null,
   "metadata": {},
   "outputs": [],
   "source": [
    "import pandas as pd\n",
    "pd"
   ]
  },
  {
   "cell_type": "markdown",
   "metadata": {},
   "source": [
    "Ahora, cuando queremos usar una función o clase de pandas, necesitamos llamarlo con la sintaxis `pd.function` o` pd.class`. Por ejemplo, el objeto `DataFrame`"
   ]
  },
  {
   "cell_type": "code",
   "execution_count": null,
   "metadata": {},
   "outputs": [],
   "source": [
    "pd.DataFrame"
   ]
  },
  {
   "cell_type": "markdown",
   "metadata": {},
   "source": [
    "Tenga en cuenta que este DataFrame no existe en el espacio de nombres principal."
   ]
  },
  {
   "cell_type": "code",
   "execution_count": null,
   "metadata": {},
   "outputs": [],
   "source": [
    "%%expect_exception NameError\n",
    "\n",
    "DataFrame"
   ]
  },
  {
   "cell_type": "markdown",
   "metadata": {},
   "source": [
    "También podemos importar partes de un paquete, incluso podemos importarlas y darles otro nombre!"
   ]
  },
  {
   "cell_type": "code",
   "execution_count": null,
   "metadata": {},
   "outputs": [],
   "source": [
    "from pandas import DataFrame as dframe\n",
    "dframe"
   ]
  },
  {
   "cell_type": "markdown",
   "metadata": {},
   "source": [
    "Otra cosa que podemos hacer es importar todo en el espacio de nombres principal usando la sintaxis\n",
    "\n",
    "```python\n",
    "\n",
    "from pandas import *\n",
    "```\n",
    "\n",
    "Esto es altamente desaconsejable porque puede causar problemas cuando varios paquetes tienen una función o clase con el mismo nombre (no es raro, piense en una función como `.info`).\n",
    "\n",
    "Hemos cubierto los mecanismos básicos del sistema de importación, pero ¿qué nos permite hacer? Tener un sistema de empaquetado sano permite a los usuarios de Python empaquetar paquetes de funcionalidad en módulos y paquetes que se pueden importar a otros bits de códigos. Si están bien escritos, estos paquetes funcionan principalmente como cajas negras, donde el usuario entiende qué está haciendo el paquete, pero no necesariamente cómo está desempeñando su funcionalidad.\n",
    "\n",
    "Si bien puede parecer que esto está cediendo demasiado control, la mayoría de nosotros no entendemos exactamente cómo funciona el procesador de nuestra computadora, ni siquiera el teclado, pero nos sentimos perfectamente cómodos al usarlos para cumplir su propósito. Los paquetes son similares y, cuando se escriben bien, pueden ser herramientas invaluables que nos permiten incorporar un código probado bien escrito que hace cosas poderosas en nuestras aplicaciones con muy poca dificultad."
   ]
  },
  {
   "cell_type": "markdown",
   "metadata": {},
   "source": [
    "## Biblioteca Estándar (Standard Library)\n",
    "\n",
    "Una cosa útil que podemos hacer con las declaraciones `import` es importar paquetes en la biblioteca estándar de Python. Estos son paquetes que se empaquetan con el intérprete y están disponibles en (casi) cualquier instalación de Python. Estos paquetes sirven para una amplia variedad de propósitos, aquí hemos enumerado algunos junto con su descripción. Para el resto, revisar la [documentación](https://docs.python.org/2/library/).\n",
    "\n",
    "- `collections` - containers\n",
    "- `re` - regular expressions\n",
    "- `datetime` - date and time handling\n",
    "- `heapq` - the heap queue algorithm\n",
    "- `itertools` - functions for help with iteration\n",
    "- `functools` - function to assist with functional programming\n",
    "- `os` - operating system interfaces\n",
    "- `sys` - system functions\n",
    "- `pickle` - serialize Python objects\n",
    "- `gzip` - work with Gzipped files\n",
    "- `time` - time access\n",
    "- `argparse` - command line argument handling\n",
    "- `threading` - threading interface\n",
    "- `multiprocessing` - process based \"threading\"\n",
    "- `subprocess` - subprocess management\n",
    "- `unittest` - testing tools\n",
    "- `pdb` - debugger\n",
    "\n",
    "\n",
    "\n",
    "\n",
    "Estos paquetes están optimizados, son confiables y están disponibles en cualquier lugar donde haya una instalación de Python, ¡así que úselos cuando pueda!"
   ]
  },
  {
   "cell_type": "markdown",
   "metadata": {},
   "source": [
    "## Excepciones\n",
    "\n",
    "Una excepción es algo que se desvía de la norma. En Python no es diferente, las excepciones son cuando su programa se desvía del comportamiento esperado. El intérprete de Python intentará ejecutar cualquier código que se le dé y, cuando no pueda, generará una \"excepción\". En nuestros cuadernos anotará la magia `%%expect_exception`. Esto es solo una señal de que sabemos que habrá una excepción en esa celda. Por ejemplo, vamos a tratar de agregar un número a una cadena."
   ]
  },
  {
   "cell_type": "code",
   "execution_count": null,
   "metadata": {},
   "outputs": [],
   "source": [
    "%%expect_exception TypeError\n",
    "\n",
    "2 + '3'"
   ]
  },
  {
   "cell_type": "markdown",
   "metadata": {},
   "source": [
    "Podemos ver que esto genera un `TypeError` porque Python no sabe cómo agregar una cadena y un entero (Python no forzará a uno de los valores a un tipo diferente; recuerde el Zen de Python: 'Frente a la ambigüedad, evitar la tentación de adivinar'). Las excepciones son a menudo muy legibles y útiles para depurar el código, sin embargo, también podemos escribir código para manejar las excepciones cuando ocurren. Permite escribir una función que se suma a las cosas juntas (básicamente, solo otra versión de la función de adición), excepto que detectará el `TypeError` y hará algunas conversiones."
   ]
  },
  {
   "cell_type": "code",
   "execution_count": null,
   "metadata": {},
   "outputs": [],
   "source": [
    "def add(x, y):\n",
    "    try:\n",
    "        return x + y\n",
    "    except TypeError:\n",
    "        return float(x) + float(y)"
   ]
  },
  {
   "cell_type": "markdown",
   "metadata": {},
   "source": [
    "Ahora vamos a ejecutar algo similar al ejemplo anterior."
   ]
  },
  {
   "cell_type": "code",
   "execution_count": null,
   "metadata": {},
   "outputs": [],
   "source": [
    "add(2, '3')"
   ]
  },
  {
   "cell_type": "markdown",
   "metadata": {},
   "source": [
    "Como se vio anteriormente, la manera de manejar las Excepciones es con las palabras clave `try` y` except`. El bloque `try` especifica un poco de código para tratar de ejecutarse y el bloque` except` controla todas las excepciones que están específicamente enumeradas. También se puede atrapar todas las excepciones haciendo\n",
    "\n",
    "```python\n",
    "\n",
    "try:\n",
    "    func()\n",
    "except:\n",
    "    handle_exception()\n",
    "    \n",
    "```\n",
    "\n",
    "Pero esto generalmente no es una buena idea, ya que Python usa Excepciones para todo tipo de cosas (a veces incluso para salir de programas) y no desea capturar las Excepciones que Python usa para un propósito diferente. Piense en el manejo de una 'excepción' como en el manejo de las pequeñas probabilidades que ocurrirán en su código, no como una herramienta para anticipar nada.\n",
    "\n",
    "Hemos visto excepciones, pero ¿cuáles son las alternativas? Una opción, utilizada por otros idiomas es probar por adelantado que se cumplen las condiciones necesarias para proceder. Podemos reescribir la función de agregar de una manera diferente."
   ]
  },
  {
   "cell_type": "code",
   "execution_count": null,
   "metadata": {},
   "outputs": [],
   "source": [
    "def add_2(x,y):\n",
    "    if not isinstance(x, (float, int)):\n",
    "        x = float(x)\n",
    "    if not isinstance(y, (float, int)):\n",
    "        y = float(y)\n",
    "    return x + y\n",
    "add_2(2, '3')"
   ]
  },
  {
   "cell_type": "markdown",
   "metadata": {},
   "source": [
    "Esto también funciona, pero no es Pythonic. La forma de pensar de Python acerca de esto es aproximadamente análoga a \"es más fácil pedir perdón que permiso\". Lanzar excepciones en realidad tiene otros beneficios positivos, como la capacidad de manejar errores en códigos de nivel superior en lugar de funciones de bajo nivel. \n",
    "\n",
    "Lo que queremos decir con esto es que si tenemos una serie de funciones `f_a, f_b, f_c` y` f_a` llama a `f_b` que llama a` f_c`, podemos elegir manejar una excepción en `f_c` en cualquiera de estas funciones !"
   ]
  },
  {
   "cell_type": "markdown",
   "metadata": {},
   "source": [
    "## Depuración de Python\n",
    "\n",
    "Hemos visto cómo manejar los errores con `excepciones`, pero ¿cómo averiguamos qué es incorrecto cuando tenemos errores que no hemos manejado?\n",
    "\n",
    "Veamos nuevamente nuestro ejemplo anterior."
   ]
  },
  {
   "cell_type": "code",
   "execution_count": null,
   "metadata": {},
   "outputs": [],
   "source": [
    "%%expect_exception TypeError\n",
    "\n",
    "2 + '3'"
   ]
  },
  {
   "cell_type": "markdown",
   "metadata": {},
   "source": [
    "Si miramos el texto devuelto, denominado `Traceback`, podemos ver mucha información útil. Los rastreos deben leerse comenzando desde abajo y trabajando. En este caso, Traceback nos dice exactamente lo que sucedió, intentamos agregar un `int` y un` str` y no hay forma de hacerlo. Incluso apunta a la línea exacta de código donde ocurre este error.\n",
    "\n",
    "Echemos un vistazo a un Traceback más complicado. Crearemos un `DataFrame` de pandas con argumentos ilegales."
   ]
  },
  {
   "cell_type": "code",
   "execution_count": null,
   "metadata": {},
   "outputs": [],
   "source": [
    "%%expect_exception ValueError\n",
    "\n",
    "pd.DataFrame(['one','two','three'],['test'])"
   ]
  },
  {
   "cell_type": "markdown",
   "metadata": {},
   "source": [
    "Si miramos hacia abajo, podemos ver que esto se debe a una forma incorrecta de las matrices que hemos pasado a la función `DataFrame`. Podemos rastrear nuestro camino de regreso a través del código para ver todas las funciones que fueron llamadas con el fin de llegar a este error. En este caso, hubo cuatro llamados, `DataFrame, _init_ndarray, create_block_manager_from_blocks, construction_error`.\n",
    "\n",
    "Aprender a leer Tracebacks y, especialmente, a descubrir por qué fallan pequeños bits de código es una parte importante para convertirse en un buen programador de Python.\n",
    "\n",
    "### Ejercicio\n",
    "\n",
    "Ejecute los siguientes bits de código en nuevas celdas y determine el error, corrija los errores de manera sensata.\n",
    "\n",
    "\n",
    "```python\n",
    "# Example 1\n",
    "float([1])\n",
    "\n",
    "# Example 2\n",
    "a = []\n",
    "a[1]\n",
    "\n",
    "# Example 3\n",
    "pd.DataFrame(['one','two','three'],['test'])\n",
    "```"
   ]
  }
 ],
 "metadata": {
  "kernelspec": {
   "display_name": "Python 3",
   "language": "python",
   "name": "python3"
  },
  "language_info": {
   "codemirror_mode": {
    "name": "ipython",
    "version": 3
   },
   "file_extension": ".py",
   "mimetype": "text/x-python",
   "name": "python",
   "nbconvert_exporter": "python",
   "pygments_lexer": "ipython3",
   "version": "3.7.4"
  },
  "nbclean": true,
  "varInspector": {
   "cols": {
    "lenName": 16,
    "lenType": 16,
    "lenVar": 40
   },
   "kernels_config": {
    "python": {
     "delete_cmd_postfix": "",
     "delete_cmd_prefix": "del ",
     "library": "var_list.py",
     "varRefreshCmd": "print(var_dic_list())"
    },
    "r": {
     "delete_cmd_postfix": ") ",
     "delete_cmd_prefix": "rm(",
     "library": "var_list.r",
     "varRefreshCmd": "cat(var_dic_list()) "
    }
   },
   "types_to_exclude": [
    "module",
    "function",
    "builtin_function_or_method",
    "instance",
    "_Feature"
   ],
   "window_display": false
  }
 },
 "nbformat": 4,
 "nbformat_minor": 1
}
