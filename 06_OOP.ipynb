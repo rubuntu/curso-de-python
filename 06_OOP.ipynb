{
 "cells": [
  {
   "cell_type": "code",
   "execution_count": null,
   "metadata": {},
   "outputs": [],
   "source": [
    "%matplotlib inline\n",
    "import matplotlib\n",
    "import seaborn as sns\n",
    "matplotlib.rcParams['savefig.dpi'] = 144"
   ]
  },
  {
   "cell_type": "code",
   "execution_count": null,
   "metadata": {},
   "outputs": [],
   "source": [
    "import expectexception"
   ]
  },
  {
   "cell_type": "markdown",
   "metadata": {},
   "source": [
    "# Programación orientada a objetos\n",
    "\n",
    "En las últimas lecciones, a veces me he referido a **objetos** o **objetos de Python**. También mencioné **métodos** de objetos (por ejemplo, el método `get` de` dict`). que significan estas expresiones?\n",
    "\n",
    "Por ahora podemos pensar en un objeto como algo que podemos almacenar en una variable. Podemos tener objetos de diferente `type`. También podríamos llamar al `type` de un objeto su **class**. Volveremos a clase más tarde."
   ]
  },
  {
   "cell_type": "code",
   "execution_count": null,
   "metadata": {},
   "outputs": [],
   "source": [
    "x = 42\n",
    "print('%d is an object of %s' % (x, type(x)))\n",
    "\n",
    "x = 'Hello world!'\n",
    "print('%s is an object of %s' % (x, type(x)))\n",
    "\n",
    "x = {'name': 'Dylan', 'age': 26}\n",
    "print('%s is an object of %s' % (x, type(x)))"
   ]
  },
  {
   "cell_type": "markdown",
   "metadata": {},
   "source": [
    "Ya sabemos que los enteros, cadenas y diccionarios se comportan de manera diferente. Tienen diferentes propiedades y capacidades diferentes. En el lenguaje de programación, decimos que tienen diferentes **atributos** y **métodos**.\n",
    "\n",
    "Los atributos de un objeto son sus variables internas que se utilizan para almacenar información sobre el objeto."
   ]
  },
  {
   "cell_type": "code",
   "execution_count": null,
   "metadata": {},
   "outputs": [],
   "source": [
    "# a complex number has real and imaginary parts\n",
    "x = complex(5, 3)\n",
    "print(x.real)\n",
    "print(x.imag)"
   ]
  },
  {
   "cell_type": "markdown",
   "metadata": {},
   "source": [
    "Los métodos de un objeto son sus funciones internas que implementan diferentes capacidades."
   ]
  },
  {
   "cell_type": "code",
   "execution_count": null,
   "metadata": {},
   "outputs": [],
   "source": [
    "x = 'Dylan'\n",
    "print(x.lower())\n",
    "print(x.upper())"
   ]
  },
  {
   "cell_type": "markdown",
   "metadata": {},
   "source": [
    "Interactuaremos con los métodos de un objeto más a menudo que con sus atributos. Los atributos representan el _estado_ de un objeto. Por lo general, preferimos mutar el estado de un objeto a través de sus métodos, ya que los métodos representan las acciones que uno puede tomar de manera segura sin romper el objeto. A menudo los atributos de un objeto serán inmutables."
   ]
  },
  {
   "cell_type": "code",
   "execution_count": null,
   "metadata": {},
   "outputs": [],
   "source": [
    "%%expect_exception TypeError\n",
    "\n",
    "x = complex(5, 3)\n",
    "x.real = 6"
   ]
  },
  {
   "cell_type": "markdown",
   "metadata": {},
   "source": [
    "Un ejemplo de un método que muta un objeto es el método `append` de una ` list`."
   ]
  },
  {
   "cell_type": "code",
   "execution_count": null,
   "metadata": {},
   "outputs": [],
   "source": [
    "x = [35, 'example', 348.1]\n",
    "x.append(True)\n",
    "print(x)"
   ]
  },
  {
   "cell_type": "markdown",
   "metadata": {},
   "source": [
    "¿Cómo sabemos cuáles son los atributos y métodos de un objeto? Podemos usar la función `dir` de Python. Podemos usar `dir` en un objeto o en una clase."
   ]
  },
  {
   "cell_type": "code",
   "execution_count": null,
   "metadata": {},
   "outputs": [],
   "source": [
    "# dir on an object\n",
    "x = 42\n",
    "print(dir(x)[-6:]) # I've truncated the results for clarity\n",
    "\n",
    "# dir on a class\n",
    "print(dir(int)[-6:])"
   ]
  },
  {
   "cell_type": "markdown",
   "metadata": {},
   "source": [
    "También podemos consultar la documentación de la clase. Por ejemplo, [aquí está la documentación de Python sobre los tipos de Python incorporados](https://docs.python.org/2/library/stdtypes.html). Usaremos la documentación cada vez más a medida que incorporemos bibliotecas y herramientas de terceros en Python."
   ]
  },
  {
   "cell_type": "markdown",
   "metadata": {},
   "source": [
    "## Clases\n",
    "\n",
    "Pero esto no es toda la historia. Los métodos y atributos de un `dict` no nos dicen nada acerca de los pares clave-valor o hash. La definición completa de un objeto es la clase de un objeto. Podemos definir nuestras propias clases para crear objetos que realizan una variedad de tareas relacionadas o representan información de una manera conveniente. Algunos de los ejemplos que trataremos más adelante en el curso son clases para hacer gráficos y gráficas, clases para crear y analizar tablas de datos y clases para hacer estadísticas y regresión.\n",
    "\n",
    "Por ahora, implementemos una clase llamada `Rational` para trabajar con números fraccionarios (por ejemplo, 5/15). Lo primero que necesitaremos para hacer `Rational` es poder crear un objeto` Rational`. Definimos cómo debería funcionar esto con un método especial (oculto) llamado `__init__`. También definiremos otro método especial llamado `__repr__` que le dice a Python cómo imprimir el objeto."
   ]
  },
  {
   "cell_type": "code",
   "execution_count": null,
   "metadata": {},
   "outputs": [],
   "source": [
    "class Rational(object):\n",
    "\n",
    "    def __init__(self, numerator, denominator):\n",
    "        self.numerator = numerator\n",
    "        self.denominator = denominator\n",
    "\n",
    "    def __repr__(self):\n",
    "        return '%d/%d' % (self.numerator, self.denominator)"
   ]
  },
  {
   "cell_type": "code",
   "execution_count": null,
   "metadata": {},
   "outputs": [],
   "source": [
    "fraction = Rational(4, 3)\n",
    "print(fraction)"
   ]
  },
  {
   "cell_type": "markdown",
   "metadata": {},
   "source": [
    "Es posible que haya notado que ambos métodos tomaron como primer argumento la palabra clave `self`. El primer argumento de cualquier método en una clase es la instancia de la clase sobre la cual se llama al método. Piense en una clase como un plano a partir del cual posiblemente se construyen muchos objetos. El argumento `self` es el mecanismo que utiliza Python para que el método pueda saber a qué instancia de la clase se está recurriendo. Cuando el método es realmente llamado, podemos llamarlo de dos maneras. Digamos que creamos una clase `MyClass` con el método` .do_it (self)`, si instanciamos un objeto de esta clase, podemos llamar al método de dos maneras:"
   ]
  },
  {
   "cell_type": "code",
   "execution_count": null,
   "metadata": {},
   "outputs": [],
   "source": [
    "class MyClass(object):\n",
    "    def __init__(self, num):\n",
    "        self.num = num\n",
    "        \n",
    "    def do_it(self):\n",
    "        print((self.num))\n",
    "        \n",
    "myclass = MyClass(2)\n",
    "myclass.do_it()\n",
    "MyClass.do_it(myclass)"
   ]
  },
  {
   "cell_type": "markdown",
   "metadata": {},
   "source": [
    "En forma `myclass.do_it ()` el argumento `self` se entiende porque` myclass` es una instancia de `MyClass`. Esta es la forma casi universal de llamar a un método. La otra posibilidad es `MyClass.do_it (myclass)` donde pasamos el objeto `myclass` como el argumento` self`, esta sintaxis es mucho menos común.\n",
    "\n",
    "Al igual que todos los argumentos de Python, no hay necesidad de que `self` sea nombrado` self`, también podríamos llamarlo `this` o` apple` o `wizard`. Sin embargo, el uso de `self 'es una convención de Python muy fuerte que rara vez se rompe. Debe utilizar esta convención para que otras personas entiendan su código.\n",
    "\n",
    "Volvamos a nuestra clase `Rational`. Hasta ahora, podemos hacer un objeto `Rational` y` imprimirlo, pero no puede hacer mucho más. También podríamos querer un método de \"reducción\" que dividirá el numerador y el denominador por su mayor divisor común. Por lo tanto, necesitaremos escribir una función que calcule el mayor divisor común. Agregaremos esto a nuestra definición de clase."
   ]
  },
  {
   "cell_type": "code",
   "execution_count": null,
   "metadata": {},
   "outputs": [],
   "source": [
    "class Rational(object):\n",
    "\n",
    "    def __init__(self, numerator, denominator):\n",
    "        self.numerator = numerator\n",
    "        self.denominator = denominator\n",
    "\n",
    "    def __repr__(self):\n",
    "        return '%d/%d' % (self.numerator, self.denominator)\n",
    "\n",
    "    def _gcd(self):\n",
    "        smaller = min(self.numerator, self.denominator)\n",
    "        small_divisors = {i for i in range(1, smaller + 1) if smaller % i == 0}\n",
    "        larger = max(self.numerator, self.denominator)\n",
    "        common_divisors = {i for i in small_divisors if larger % i == 0}\n",
    "        return max(common_divisors)\n",
    "\n",
    "    def reduce(self):\n",
    "        gcd = self._gcd()\n",
    "        self.numerator = self.numerator / gcd\n",
    "        self.denominator = self.denominator / gcd\n",
    "        return self"
   ]
  },
  {
   "cell_type": "code",
   "execution_count": null,
   "metadata": {},
   "outputs": [],
   "source": [
    "fraction = Rational(16, 32)\n",
    "fraction.reduce()\n",
    "print(fraction)"
   ]
  },
  {
   "cell_type": "markdown",
   "metadata": {},
   "source": [
    "Estamos construyendo gradualmente la funcionalidad de nuestra clase `Rational`, pero tiene un gran problema: ¡no podemos hacer matemáticas con eso!"
   ]
  },
  {
   "cell_type": "code",
   "execution_count": null,
   "metadata": {},
   "outputs": [],
   "source": [
    "%%expect_exception TypeError\n",
    "\n",
    "print(4 * fraction)"
   ]
  },
  {
   "cell_type": "markdown",
   "metadata": {},
   "source": [
    "Tenemos que decirle a Python cómo implementar operadores matemáticos (`+`, `-`,` * `,` / `) para nuestra clase."
   ]
  },
  {
   "cell_type": "code",
   "execution_count": null,
   "metadata": {},
   "outputs": [],
   "source": [
    "print(dir(int))"
   ]
  },
  {
   "cell_type": "markdown",
   "metadata": {},
   "source": [
    "Si miramos a `dir (int)` vemos que tiene métodos ocultos como `__add__`,` __div__`, `__mul__`,` __sub__`, etc. Al igual que `__repr__` le dice a Python cómo `print` nuestro objeto, estos métodos ocultos le dicen a Python cómo manejar operadores matemáticos.\n",
    "\n",
    "Agreguemos los métodos que implementan operaciones matemáticas a nuestra definición de clase. Para realizar sumas o restas, tendremos que encontrar un denominador común con el número que estamos sumando. Para simplificar, solo implementaremos la multiplicación. No podremos sumar, restar o dividir. Incluso implementar solo la multiplicación requerirá un poco de lógica."
   ]
  },
  {
   "cell_type": "code",
   "execution_count": null,
   "metadata": {},
   "outputs": [],
   "source": [
    "class Rational(object):\n",
    "\n",
    "    def __init__(self, numerator, denominator):\n",
    "        self.numerator = numerator\n",
    "        self.denominator = denominator\n",
    "\n",
    "    def __repr__(self):\n",
    "        return '%d/%d' % (self.numerator, self.denominator)\n",
    "\n",
    "    def __mul__(self, number):\n",
    "        if isinstance(number, int):\n",
    "            return Rational(self.numerator * number, self.denominator)\n",
    "        elif isinstance(number, Rational):\n",
    "            return Rational(self.numerator * number.numerator, self.denominator * number.denominator)\n",
    "        else:\n",
    "            raise TypeError('Expected number to be int or Rational. Got %s' % type(number))\n",
    "        \n",
    "    def _gcd(self):\n",
    "        smaller = min(self.numerator, self.denominator)\n",
    "        small_divisors = {i for i in range(1, smaller + 1) if smaller % i == 0}\n",
    "        larger = max(self.numerator, self.denominator)\n",
    "        common_divisors = {i for i in small_divisors if larger % i == 0}\n",
    "        return max(common_divisors)\n",
    "\n",
    "    def reduce(self):\n",
    "        gcd = self._gcd()\n",
    "        self.numerator = self.numerator / gcd\n",
    "        self.denominator = self.denominator / gcd\n",
    "        return self"
   ]
  },
  {
   "cell_type": "code",
   "execution_count": null,
   "metadata": {},
   "outputs": [],
   "source": [
    "print(Rational(4, 6) * 3)\n",
    "print(Rational(5, 9) * Rational(2, 3))"
   ]
  },
  {
   "cell_type": "code",
   "execution_count": null,
   "metadata": {},
   "outputs": [],
   "source": [
    "%%expect_exception TypeError\n",
    "\n",
    "# remember, no support for float\n",
    "print(Rational(4, 6) * 2.3)"
   ]
  },
  {
   "cell_type": "code",
   "execution_count": null,
   "metadata": {},
   "outputs": [],
   "source": [
    "%%expect_exception TypeError\n",
    "\n",
    "# also, no addition, subtraction, etc.\n",
    "print(Rational(4, 6) + Rational(2, 3))"
   ]
  },
  {
   "cell_type": "markdown",
   "metadata": {},
   "source": [
    "Definir clases puede ser mucho trabajo. Tenemos que imaginar todas las formas en que podríamos querer usar un objeto y dónde podemos encontrarnos con problemas. Esto también se aplica a la definición de funciones, pero las clases generalmente manejarán muchas tareas, mientras que una función solo puede hacer una."
   ]
  },
  {
   "cell_type": "markdown",
   "metadata": {},
   "source": [
    "## Métodos privados en Python\n",
    "\n",
    "Puede que hayas notado que hemos usado algunos métodos que comienzan con `_` como` _gcd`. Esto tiene un significado convencional en Python que se implementa formalmente en otros idiomas, la noción de una función privada. Las clases se utilizan para encapsular la funcionalidad y los datos al tiempo que proporcionan una interfaz al mundo exterior de otros objetos. Piense en un programa como una empresa, cada trabajador tiene sus propias responsabilidades y sabe que otras personas de la compañía realizan ciertas tareas, pero no necesariamente saben cómo esas personas realizan esas tareas.\n",
    "\n",
    "Para hacer esto posible, las clases tienen métodos tanto públicos como privados. Los métodos públicos son métodos que están expuestos a otros objetos o la interacción del usuario. Los métodos privados se utilizan internamente para el objeto, a menudo en un sentido \"auxiliar\". En algunos idiomas, esta noción de métodos públicos y privados se aplica y el programador deberá especificar cada método como público o privado. En Python, todos los métodos son públicos, pero para distinguir qué métodos queremos que sean privados, agregamos un guión bajo al principio del método, de ahí `_gcd`. Esta es una nota para alguien que usa la clase de que este método solo debe llamarse dentro del objeto y puede estar sujeto a cambios con las nuevas versiones, mientras que los métodos públicos con suerte no cambiarán su interfaz.\n",
    "\n",
    "Otra convención de Python que trata los guiones bajos son los llamados métodos `dunder` que tienen guiones bajos antes y después de los nombres de los métodos. Hay un montón de estos en Python `__init__, __name__, __add__`, etc. y tienen un significado especial. Tenga en cuenta que, en general, también se consideran métodos privados, excepto en circunstancias especiales. En el caso de métodos como `__add__`, son los que permiten al programador especificar la operación` + `. Dado que estos métodos tienen un significado especial para Python, solo deben usarse con cuidado. Además, aunque la sobrecarga de cosas como el operador `+` podría tener sentido para usted al programarlo, puede ser muy confuso para alguien que lee su código, ya que el sistema de tipos dinámico de Python generalmente no permite la determinación de tipos hasta el tiempo de ejecución, generalmente definiendo un `El método .add` es mucho más claro.\n",
    "\n",
    "## ¿Cuándo queremos clases?\n",
    "\n",
    "Cuando queremos realizar un conjunto de tareas relacionadas, especialmente en la repetición, generalmente queremos definir una nueva clase. Veremos que en la mayoría de las bibliotecas de terceros que usaremos, las herramientas principales que presentan a Python son nuevas clases. Por ejemplo, más adelante en el curso aprenderemos acerca de la biblioteca de Pandas, cuya característica principal es la clase `DataFrame`."
   ]
  },
  {
   "cell_type": "code",
   "execution_count": null,
   "metadata": {},
   "outputs": [],
   "source": [
    "import pandas as pd\n",
    "\n",
    "df = pd.DataFrame({'a': [1, 2, 5], 'b': [True, False, True]})\n",
    "\n",
    "print(type(df))\n",
    "df.head()"
   ]
  },
  {
   "cell_type": "markdown",
   "metadata": {},
   "source": [
    "Aquí está el comienzo (resumido) de la definición de la clase DataFrame:\n",
    "\n",
    "```python\n",
    "class DataFrame(NDFrame):\n",
    "\n",
    "    def __init__(self, data=None, index=None, columns=None, dtype=None,\n",
    "                 copy=False):\n",
    "        if data is None:\n",
    "            data = {}\n",
    "        if dtype is not None:\n",
    "            dtype = self._validate_dtype(dtype)\n",
    "\n",
    "        if isinstance(data, DataFrame):\n",
    "            data = data._data\n",
    "\n",
    "        if isinstance(data, BlockManager):\n",
    "            mgr = self._init_mgr(data, axes=dict(index=index, columns=columns),\n",
    "                                 dtype=dtype, copy=copy)\n",
    "        elif isinstance(data, dict):\n",
    "            mgr = self._init_dict(data, index, columns, dtype=dtype)\n",
    "        elif isinstance(data, ma.MaskedArray):\n",
    "            import numpy.ma.mrecords as mrecords\n",
    "            # masked recarray\n",
    "            if isinstance(data, mrecords.MaskedRecords):\n",
    "                mgr = _masked_rec_array_to_mgr(data, index, columns, dtype,\n",
    "                                               copy)\n",
    "\n",
    "            # a masked array\n",
    "            else:\n",
    "                mask = ma.getmaskarray(data)\n",
    "                if mask.any():\n",
    "                    data, fill_value = maybe_upcast(data, copy=True)\n",
    "                    data[mask] = fill_value\n",
    "                else:\n",
    "                    data = data.copy()\n",
    "                mgr = self._init_ndarray(data, index, columns, dtype=dtype,\n",
    "                                         copy=copy)\n",
    "\n",
    "        elif isinstance(data, (np.ndarray, Series, Index)):\n",
    "            if data.dtype.names:\n",
    "                data_columns = list(data.dtype.names)\n",
    "                data = dict((k, data[k]) for k in data_columns)\n",
    "                if columns is None:\n",
    "                    columns = data_columns\n",
    "                mgr = self._init_dict(data, index, columns, dtype=dtype)\n",
    "            elif getattr(data, 'name', None) is not None:\n",
    "                mgr = self._init_dict({data.name: data}, index, columns,\n",
    "                                      dtype=dtype)\n",
    "            else:\n",
    "                mgr = self._init_ndarray(data, index, columns, dtype=dtype,\n",
    "                                         copy=copy)\n",
    "        elif isinstance(data, (list, types.GeneratorType)):\n",
    "            if isinstance(data, types.GeneratorType):\n",
    "                data = list(data)\n",
    "            if len(data) > 0:\n",
    "                if is_list_like(data[0]) and getattr(data[0], 'ndim', 1) == 1:\n",
    "                    if is_named_tuple(data[0]) and columns is None:\n",
    "                        columns = data[0]._fields\n",
    "                    arrays, columns = _to_arrays(data, columns, dtype=dtype)\n",
    "                    columns = _ensure_index(columns)\n",
    "\n",
    "                    # set the index\n",
    "                    if index is None:\n",
    "                        if isinstance(data[0], Series):\n",
    "                            index = _get_names_from_index(data)\n",
    "                        elif isinstance(data[0], Categorical):\n",
    "                            index = _default_index(len(data[0]))\n",
    "                        else:\n",
    "                            index = _default_index(len(data))\n",
    "\n",
    "                    mgr = _arrays_to_mgr(arrays, columns, index, columns,\n",
    "                                         dtype=dtype)\n",
    "                else:\n",
    "                    mgr = self._init_ndarray(data, index, columns, dtype=dtype,\n",
    "                                             copy=copy)\n",
    "            else:\n",
    "                mgr = self._init_dict({}, index, columns, dtype=dtype)\n",
    "        elif isinstance(data, collections.Iterator):\n",
    "            raise TypeError(\"data argument can't be an iterator\")\n",
    "        else:\n",
    "            try:\n",
    "                arr = np.array(data, dtype=dtype, copy=copy)\n",
    "            except (ValueError, TypeError) as e:\n",
    "                exc = TypeError('DataFrame constructor called with '\n",
    "                                'incompatible data and dtype: %s' % e)\n",
    "                raise_with_traceback(exc)\n",
    "\n",
    "            if arr.ndim == 0 and index is not None and columns is not None:\n",
    "                values = cast_scalar_to_array((len(index), len(columns)),\n",
    "                                              data, dtype=dtype)\n",
    "                mgr = self._init_ndarray(values, index, columns,\n",
    "                                         dtype=values.dtype, copy=False)\n",
    "            else:\n",
    "                raise ValueError('DataFrame constructor not properly called!')\n",
    "\n",
    "        NDFrame.__init__(self, mgr, fastpath=True)\n",
    "```"
   ]
  },
  {
   "cell_type": "markdown",
   "metadata": {},
   "source": [
    "¡Eso es mucho código solo para `__init__`!\n",
    "\n",
    "A menudo, usaremos la relación entre una nueva clase y las clases existentes para la funcionalidad _inherit_, evitando que escribamos algo de código.\n",
    "\n",
    "## Herencia\n",
    "\n",
    "A menudo, las clases que definimos en Python se construirán a partir de ideas existentes en otras clases. Por ejemplo, nuestra clase `Rational` es un número, por lo que debería comportarse como otros números. Podríamos escribir una implementación de `Rational` que use aritmética` float` y simplemente convierta entre el punto flotante y las representaciones racionales durante la entrada y salida. Esto nos ahorraría complejidad en la implementación de la aritmética, pero podría complicar la creación y representación de objetos. Incluso si nunca escribe una clase, es útil comprender la idea de herencia y la relación entre las clases.\n",
    "\n",
    "Vamos a escribir una clase general llamada `Rectangle`, tendrá dos atributos, una longitud y un ancho, así como algunos métodos."
   ]
  },
  {
   "cell_type": "code",
   "execution_count": null,
   "metadata": {},
   "outputs": [],
   "source": [
    "class Rectangle(object):\n",
    "    def __init__(self, height, length):\n",
    "        self.height = height\n",
    "        self.length = length\n",
    "    \n",
    "    def area(self):\n",
    "        return self.height * self.length\n",
    "    \n",
    "    def perimeter(self):\n",
    "        return 2 * (self.height + self.length)"
   ]
  },
  {
   "cell_type": "markdown",
   "metadata": {},
   "source": [
    "Ahora, un cuadrado también es un rectángulo, pero es algo más restringido, ya que tiene la misma altura que la longitud, por lo que podemos subclase `Rectangle` y aplicar esto en el código."
   ]
  },
  {
   "cell_type": "code",
   "execution_count": null,
   "metadata": {},
   "outputs": [],
   "source": [
    "class Square(Rectangle):\n",
    "    def __init__(self, length):\n",
    "        super(Square, self).__init__(length, length)"
   ]
  },
  {
   "cell_type": "code",
   "execution_count": null,
   "metadata": {},
   "outputs": [],
   "source": [
    "s = Square(5)\n",
    "s.area(), s.perimeter()"
   ]
  },
  {
   "cell_type": "markdown",
   "metadata": {},
   "source": [
    "A veces (aunque no a menudo) queremos verificar realmente el tipo de un objeto python (de qué clase es). Hay dos formas de hacer esto, veamos primero algunos ejemplos para tener una idea de la diferencia."
   ]
  },
  {
   "cell_type": "code",
   "execution_count": null,
   "metadata": {},
   "outputs": [],
   "source": [
    "type(s) == Square"
   ]
  },
  {
   "cell_type": "code",
   "execution_count": null,
   "metadata": {},
   "outputs": [],
   "source": [
    "type(s) == Rectangle"
   ]
  },
  {
   "cell_type": "code",
   "execution_count": null,
   "metadata": {},
   "outputs": [],
   "source": [
    "isinstance(s, Rectangle)"
   ]
  },
  {
   "cell_type": "markdown",
   "metadata": {},
   "source": [
    "Como habrá notado, la calidad de tipo de verificación solo verifica la clase exacta a la que pertenece un objeto, mientras que `isinstance (c, Class)` comprueba si `c` es un miembro de la clase` Class` o un miembro de una subclase de `Class`. Casi siempre `isinstance` es la forma correcta de verificar esto, porque si una clase implementa algún tipo de funcionalidad, sus subclases implementan la misma funcionalidad (¡es posible que tengan alguna funcionalidad extra adicional!)."
   ]
  },
  {
   "cell_type": "markdown",
   "metadata": {},
   "source": [
    "## Programación orientada a objetos\n",
    "\n",
    "Ahora que entendemos los objetos y las clases, volvamos a la idea de _programación orientada a objetos_. La programación orientada a objetos (`OOP`) es una perspectiva que los programas tratan esencialmente sobre la creación de objetos y la interacción entre ellos. En `OOP`, casi cada fragmento de código describe un objeto, los atributos de un objeto o los métodos de un objeto. Mantener esta perspectiva en mente puede ayudarnos a entender lo que está sucediendo en un programa."
   ]
  },
  {
   "cell_type": "markdown",
   "metadata": {},
   "source": [
    "## Preguntas:\n",
    "- ¿Cuáles son algunos objetos Python incorporados que pueden heredar de la misma clase principal?"
   ]
  }
 ],
 "metadata": {
  "kernelspec": {
   "display_name": "Python 3",
   "language": "python",
   "name": "python3"
  },
  "language_info": {
   "codemirror_mode": {
    "name": "ipython",
    "version": 3
   },
   "file_extension": ".py",
   "mimetype": "text/x-python",
   "name": "python",
   "nbconvert_exporter": "python",
   "pygments_lexer": "ipython3",
   "version": "3.6.6"
  },
  "nbclean": true,
  "varInspector": {
   "cols": {
    "lenName": 16,
    "lenType": 16,
    "lenVar": 40
   },
   "kernels_config": {
    "python": {
     "delete_cmd_postfix": "",
     "delete_cmd_prefix": "del ",
     "library": "var_list.py",
     "varRefreshCmd": "print(var_dic_list())"
    },
    "r": {
     "delete_cmd_postfix": ") ",
     "delete_cmd_prefix": "rm(",
     "library": "var_list.r",
     "varRefreshCmd": "cat(var_dic_list()) "
    }
   },
   "types_to_exclude": [
    "module",
    "function",
    "builtin_function_or_method",
    "instance",
    "_Feature"
   ],
   "window_display": false
  }
 },
 "nbformat": 4,
 "nbformat_minor": 1
}
